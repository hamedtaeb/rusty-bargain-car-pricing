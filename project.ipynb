{
 "cells": [
  {
   "cell_type": "markdown",
   "id": "2948243b",
   "metadata": {},
   "source": [
    "# Rusty Bargain Car Pricing\n",
    "Rusty Bargain used car sales service is developing an app to attract new customers. In that app, you can quickly find out the market value of your car. You have access to historical data: technical specifications, trim versions, and prices. You need to build the model to determine the value.\n",
    "\n",
    "Rusty Bargain is interested in:\n",
    "\n",
    "-   the quality of the prediction;\n",
    "-   the speed of the prediction;\n",
    "-   the time required for training"
   ]
  },
  {
   "cell_type": "code",
   "execution_count": 1,
   "id": "4cee70c0",
   "metadata": {},
   "outputs": [],
   "source": [
    "# Importing necessary libraries\n",
    "\n",
    "import numpy as np\n",
    "import pandas as pd\n",
    "import matplotlib.pyplot as plt\n",
    "import seaborn as sns\n",
    "\n",
    "from sklearn.model_selection import train_test_split\n",
    "from sklearn.preprocessing import StandardScaler\n",
    "from sklearn.linear_model import LinearRegression\n",
    "from sklearn.metrics import mean_squared_error\n",
    "from sklearn.ensemble import RandomForestRegressor\n",
    "from sklearn.tree import DecisionTreeRegressor\n",
    "\n",
    "import lightgbm as lgb\n",
    "import time"
   ]
  },
  {
   "cell_type": "code",
   "execution_count": 3,
   "id": "277a490e",
   "metadata": {},
   "outputs": [
    {
     "data": {
      "text/html": [
       "<div>\n",
       "<style scoped>\n",
       "    .dataframe tbody tr th:only-of-type {\n",
       "        vertical-align: middle;\n",
       "    }\n",
       "\n",
       "    .dataframe tbody tr th {\n",
       "        vertical-align: top;\n",
       "    }\n",
       "\n",
       "    .dataframe thead th {\n",
       "        text-align: right;\n",
       "    }\n",
       "</style>\n",
       "<table border=\"1\" class=\"dataframe\">\n",
       "  <thead>\n",
       "    <tr style=\"text-align: right;\">\n",
       "      <th></th>\n",
       "      <th>DateCrawled</th>\n",
       "      <th>Price</th>\n",
       "      <th>VehicleType</th>\n",
       "      <th>RegistrationYear</th>\n",
       "      <th>Gearbox</th>\n",
       "      <th>Power</th>\n",
       "      <th>Model</th>\n",
       "      <th>Mileage</th>\n",
       "      <th>RegistrationMonth</th>\n",
       "      <th>FuelType</th>\n",
       "      <th>Brand</th>\n",
       "      <th>NotRepaired</th>\n",
       "      <th>DateCreated</th>\n",
       "      <th>NumberOfPictures</th>\n",
       "      <th>PostalCode</th>\n",
       "      <th>LastSeen</th>\n",
       "    </tr>\n",
       "  </thead>\n",
       "  <tbody>\n",
       "    <tr>\n",
       "      <th>0</th>\n",
       "      <td>24/03/2016 11:52</td>\n",
       "      <td>480</td>\n",
       "      <td>NaN</td>\n",
       "      <td>1993</td>\n",
       "      <td>manual</td>\n",
       "      <td>0</td>\n",
       "      <td>golf</td>\n",
       "      <td>150000</td>\n",
       "      <td>0</td>\n",
       "      <td>petrol</td>\n",
       "      <td>volkswagen</td>\n",
       "      <td>NaN</td>\n",
       "      <td>24/03/2016 00:00</td>\n",
       "      <td>0</td>\n",
       "      <td>70435</td>\n",
       "      <td>07/04/2016 03:16</td>\n",
       "    </tr>\n",
       "    <tr>\n",
       "      <th>1</th>\n",
       "      <td>24/03/2016 10:58</td>\n",
       "      <td>18300</td>\n",
       "      <td>coupe</td>\n",
       "      <td>2011</td>\n",
       "      <td>manual</td>\n",
       "      <td>190</td>\n",
       "      <td>NaN</td>\n",
       "      <td>125000</td>\n",
       "      <td>5</td>\n",
       "      <td>gasoline</td>\n",
       "      <td>audi</td>\n",
       "      <td>yes</td>\n",
       "      <td>24/03/2016 00:00</td>\n",
       "      <td>0</td>\n",
       "      <td>66954</td>\n",
       "      <td>07/04/2016 01:46</td>\n",
       "    </tr>\n",
       "    <tr>\n",
       "      <th>2</th>\n",
       "      <td>14/03/2016 12:52</td>\n",
       "      <td>9800</td>\n",
       "      <td>suv</td>\n",
       "      <td>2004</td>\n",
       "      <td>auto</td>\n",
       "      <td>163</td>\n",
       "      <td>grand</td>\n",
       "      <td>125000</td>\n",
       "      <td>8</td>\n",
       "      <td>gasoline</td>\n",
       "      <td>jeep</td>\n",
       "      <td>NaN</td>\n",
       "      <td>14/03/2016 00:00</td>\n",
       "      <td>0</td>\n",
       "      <td>90480</td>\n",
       "      <td>05/04/2016 12:47</td>\n",
       "    </tr>\n",
       "    <tr>\n",
       "      <th>3</th>\n",
       "      <td>17/03/2016 16:54</td>\n",
       "      <td>1500</td>\n",
       "      <td>small</td>\n",
       "      <td>2001</td>\n",
       "      <td>manual</td>\n",
       "      <td>75</td>\n",
       "      <td>golf</td>\n",
       "      <td>150000</td>\n",
       "      <td>6</td>\n",
       "      <td>petrol</td>\n",
       "      <td>volkswagen</td>\n",
       "      <td>no</td>\n",
       "      <td>17/03/2016 00:00</td>\n",
       "      <td>0</td>\n",
       "      <td>91074</td>\n",
       "      <td>17/03/2016 17:40</td>\n",
       "    </tr>\n",
       "    <tr>\n",
       "      <th>4</th>\n",
       "      <td>31/03/2016 17:25</td>\n",
       "      <td>3600</td>\n",
       "      <td>small</td>\n",
       "      <td>2008</td>\n",
       "      <td>manual</td>\n",
       "      <td>69</td>\n",
       "      <td>fabia</td>\n",
       "      <td>90000</td>\n",
       "      <td>7</td>\n",
       "      <td>gasoline</td>\n",
       "      <td>skoda</td>\n",
       "      <td>no</td>\n",
       "      <td>31/03/2016 00:00</td>\n",
       "      <td>0</td>\n",
       "      <td>60437</td>\n",
       "      <td>06/04/2016 10:17</td>\n",
       "    </tr>\n",
       "  </tbody>\n",
       "</table>\n",
       "</div>"
      ],
      "text/plain": [
       "        DateCrawled  Price VehicleType  RegistrationYear Gearbox  Power  \\\n",
       "0  24/03/2016 11:52    480         NaN              1993  manual      0   \n",
       "1  24/03/2016 10:58  18300       coupe              2011  manual    190   \n",
       "2  14/03/2016 12:52   9800         suv              2004    auto    163   \n",
       "3  17/03/2016 16:54   1500       small              2001  manual     75   \n",
       "4  31/03/2016 17:25   3600       small              2008  manual     69   \n",
       "\n",
       "   Model  Mileage  RegistrationMonth  FuelType       Brand NotRepaired  \\\n",
       "0   golf   150000                  0    petrol  volkswagen         NaN   \n",
       "1    NaN   125000                  5  gasoline        audi         yes   \n",
       "2  grand   125000                  8  gasoline        jeep         NaN   \n",
       "3   golf   150000                  6    petrol  volkswagen          no   \n",
       "4  fabia    90000                  7  gasoline       skoda          no   \n",
       "\n",
       "        DateCreated  NumberOfPictures  PostalCode          LastSeen  \n",
       "0  24/03/2016 00:00                 0       70435  07/04/2016 03:16  \n",
       "1  24/03/2016 00:00                 0       66954  07/04/2016 01:46  \n",
       "2  14/03/2016 00:00                 0       90480  05/04/2016 12:47  \n",
       "3  17/03/2016 00:00                 0       91074  17/03/2016 17:40  \n",
       "4  31/03/2016 00:00                 0       60437  06/04/2016 10:17  "
      ]
     },
     "metadata": {},
     "output_type": "display_data"
    }
   ],
   "source": [
    "# Load the dataset\n",
    "df = pd.read_csv('car_data.csv')\n",
    "\n",
    "# Preview the dataset\n",
    "display(df.head())\n"
   ]
  },
  {
   "cell_type": "code",
   "execution_count": 4,
   "id": "d7a76217",
   "metadata": {},
   "outputs": [
    {
     "name": "stdout",
     "output_type": "stream",
     "text": [
      "shape of the dataset: (354369, 16)\n",
      "<class 'pandas.core.frame.DataFrame'>\n",
      "RangeIndex: 354369 entries, 0 to 354368\n",
      "Data columns (total 16 columns):\n",
      " #   Column             Non-Null Count   Dtype \n",
      "---  ------             --------------   ----- \n",
      " 0   DateCrawled        354369 non-null  object\n",
      " 1   Price              354369 non-null  int64 \n",
      " 2   VehicleType        316879 non-null  object\n",
      " 3   RegistrationYear   354369 non-null  int64 \n",
      " 4   Gearbox            334536 non-null  object\n",
      " 5   Power              354369 non-null  int64 \n",
      " 6   Model              334664 non-null  object\n",
      " 7   Mileage            354369 non-null  int64 \n",
      " 8   RegistrationMonth  354369 non-null  int64 \n",
      " 9   FuelType           321474 non-null  object\n",
      " 10  Brand              354369 non-null  object\n",
      " 11  NotRepaired        283215 non-null  object\n",
      " 12  DateCreated        354369 non-null  object\n",
      " 13  NumberOfPictures   354369 non-null  int64 \n",
      " 14  PostalCode         354369 non-null  int64 \n",
      " 15  LastSeen           354369 non-null  object\n",
      "dtypes: int64(7), object(9)\n",
      "memory usage: 43.3+ MB\n"
     ]
    }
   ],
   "source": [
    "# Checking Shape of dataset and get some info\n",
    "print(\"shape of the dataset:\", df.shape)\n",
    "df.info()"
   ]
  },
  {
   "cell_type": "code",
   "execution_count": 5,
   "id": "7304167b",
   "metadata": {},
   "outputs": [
    {
     "name": "stdout",
     "output_type": "stream",
     "text": [
      "Missing values in each column: NotRepaired          0.200791\n",
      "VehicleType          0.105794\n",
      "FuelType             0.092827\n",
      "Gearbox              0.055967\n",
      "Model                0.055606\n",
      "Price                0.000000\n",
      "RegistrationYear     0.000000\n",
      "DateCrawled          0.000000\n",
      "Mileage              0.000000\n",
      "Power                0.000000\n",
      "RegistrationMonth    0.000000\n",
      "Brand                0.000000\n",
      "DateCreated          0.000000\n",
      "NumberOfPictures     0.000000\n",
      "PostalCode           0.000000\n",
      "LastSeen             0.000000\n",
      "dtype: float64\n"
     ]
    }
   ],
   "source": [
    "# Checking for missing values\n",
    "print(\"Missing values in each column:\", df.isnull().mean().sort_values(ascending=False))"
   ]
  },
  {
   "cell_type": "code",
   "execution_count": 6,
   "id": "874d38b2",
   "metadata": {},
   "outputs": [
    {
     "name": "stdout",
     "output_type": "stream",
     "text": [
      "Number of duplicate rows: 262\n"
     ]
    }
   ],
   "source": [
    "# Checking for duplicate rows\n",
    "print(\"Number of duplicate rows:\", df.duplicated().sum())"
   ]
  },
  {
   "cell_type": "code",
   "execution_count": 7,
   "id": "b614b800",
   "metadata": {},
   "outputs": [
    {
     "name": "stdout",
     "output_type": "stream",
     "text": [
      "Number of duplicate rows after removal: 0\n"
     ]
    }
   ],
   "source": [
    "# Removing duplicates\n",
    "df = df.drop_duplicates()\n",
    "\n",
    "# Checking duplicate rows again\n",
    "print(\"Number of duplicate rows after removal:\", df.duplicated().sum())"
   ]
  },
  {
   "cell_type": "code",
   "execution_count": 8,
   "id": "8959e89c",
   "metadata": {},
   "outputs": [],
   "source": [
    "# Fill null values with 'unknown' for simplicity and consistency\n",
    "\n",
    "for col in ['NotRepaired', 'VehicleType', 'Gearbox', 'FuelType', 'Model']:\n",
    "    df[col] = df[col].fillna('unknown')"
   ]
  },
  {
   "cell_type": "code",
   "execution_count": 9,
   "id": "5adc6e12",
   "metadata": {},
   "outputs": [
    {
     "name": "stdout",
     "output_type": "stream",
     "text": [
      "<class 'pandas.core.frame.DataFrame'>\n",
      "Index: 354107 entries, 0 to 354368\n",
      "Data columns (total 16 columns):\n",
      " #   Column             Non-Null Count   Dtype \n",
      "---  ------             --------------   ----- \n",
      " 0   DateCrawled        354107 non-null  object\n",
      " 1   Price              354107 non-null  int64 \n",
      " 2   VehicleType        354107 non-null  object\n",
      " 3   RegistrationYear   354107 non-null  int64 \n",
      " 4   Gearbox            354107 non-null  object\n",
      " 5   Power              354107 non-null  int64 \n",
      " 6   Model              354107 non-null  object\n",
      " 7   Mileage            354107 non-null  int64 \n",
      " 8   RegistrationMonth  354107 non-null  int64 \n",
      " 9   FuelType           354107 non-null  object\n",
      " 10  Brand              354107 non-null  object\n",
      " 11  NotRepaired        354107 non-null  object\n",
      " 12  DateCreated        354107 non-null  object\n",
      " 13  NumberOfPictures   354107 non-null  int64 \n",
      " 14  PostalCode         354107 non-null  int64 \n",
      " 15  LastSeen           354107 non-null  object\n",
      "dtypes: int64(7), object(9)\n",
      "memory usage: 45.9+ MB\n"
     ]
    }
   ],
   "source": [
    "df.info()"
   ]
  },
  {
   "cell_type": "markdown",
   "id": "10f64480",
   "metadata": {},
   "source": [
    "## Data Cleaning Summary\n",
    "The original dataset contained 354,369 rows and 16 columns. Upon inspection, we found that five categorical columns — NotRepaired, VehicleType, FuelType, Gearbox, and Model — had missing values, with NotRepaired having the highest rate (~20%). Additionally, we discovered 262 duplicate rows, which were removed to prevent data leakage or bias in the model.\n",
    "\n",
    "To preserve data integrity without dropping too many rows, we replaced all missing values in categorical columns with the placeholder \"unknown\". This allows models like LightGBM to still extract patterns without losing rows unnecessarily. After cleaning, the dataset has 354,107 rows and 11 useful features, ready for further preprocessing and modeling.<br/><br/><br/><br/>\n"
   ]
  },
  {
   "cell_type": "markdown",
   "id": "067df009",
   "metadata": {},
   "source": [
    "## Handle Unrealistic or Corrupt Values\n",
    "I will review and fix:\n",
    "\n",
    "1. RegistrationYear: Look for years that are too old or too new\n",
    "A car from the year 1000 or 9999 doesn’t make sense.\n",
    "\n",
    "2. Power: Some cars have 0 or way too much horsepower\n",
    "We’ll define a reasonable range for power.\n",
    "\n",
    "3. Price: Cars with a price of 0 are probably errors"
   ]
  },
  {
   "cell_type": "code",
   "execution_count": 10,
   "id": "5114bf5f",
   "metadata": {},
   "outputs": [
    {
     "name": "stdout",
     "output_type": "stream",
     "text": [
      "Min year: 1000\n",
      "Max year: 9999\n",
      "Min Power: 0\n",
      "Max Power: 20000\n",
      "Min Price: 0\n",
      "Max Price: 20000\n"
     ]
    }
   ],
   "source": [
    "# Checking Unsual registration years\n",
    "\n",
    "print(\"Min year:\", df['RegistrationYear'].min())\n",
    "print(\"Max year:\", df['RegistrationYear'].max())\n",
    "\n",
    "# Checking for unrealistic power values distribution\n",
    "print(\"Min Power:\", df['Power'].min())\n",
    "print(\"Max Power:\", df['Power'].max())\n",
    "\n",
    "# Checking for price range\n",
    "print(\"Min Price:\", df['Price'].min())\n",
    "print(\"Max Price:\", df['Price'].max())"
   ]
  },
  {
   "cell_type": "code",
   "execution_count": 11,
   "id": "87e676db",
   "metadata": {},
   "outputs": [
    {
     "name": "stdout",
     "output_type": "stream",
     "text": [
      "Dataset shape after filtering: (297248, 16)\n"
     ]
    },
    {
     "data": {
      "image/png": "[encoded data removed]",
      "text/plain": [
       "<Figure size 1000x400 with 1 Axes>"
      ]
     },
     "metadata": {},
     "output_type": "display_data"
    },
    {
     "data": {
      "image/png": "[encoded data removed]",
      "text/plain": [
       "<Figure size 1000x400 with 1 Axes>"
      ]
     },
     "metadata": {},
     "output_type": "display_data"
    },
    {
     "data": {
      "image/png": "[encoded data removed]",
      "text/plain": [
       "<Figure size 1000x400 with 1 Axes>"
      ]
     },
     "metadata": {},
     "output_type": "display_data"
    }
   ],
   "source": [
    "# Reasonable year range: 1990 to 2022\n",
    "df = df[(df['RegistrationYear'] >= 1990) & (df['RegistrationYear'] <= 2022)]\n",
    "\n",
    "# Reasonable power: 40 to 600 hp\n",
    "df = df[(df['Power'] >= 40) & (df['Power'] <= 600)]\n",
    "\n",
    "# Reasonable price: remove entries below or equal to 100\n",
    "df = df[df['Price'] > 100]\n",
    "\n",
    "# Show new shape\n",
    "print(\"Dataset shape after filtering:\", df.shape)\n",
    "\n",
    "# Visualizing Registration data distributions\n",
    "plt.figure(figsize=(10,4))\n",
    "sns.histplot(df['RegistrationYear'], bins=30)\n",
    "plt.title('Cleaned Registration Year')\n",
    "plt.xlabel('Year')\n",
    "plt.ylabel('Count')\n",
    "plt.show()\n",
    "\n",
    "# Visualizing Power data distributions\n",
    "plt.figure(figsize=(10,4))\n",
    "sns.histplot(df['Power'], bins=50)\n",
    "plt.title('Cleaned Power Distribution')\n",
    "plt.xlabel('Horsepower')\n",
    "plt.ylabel('Count')\n",
    "plt.show()\n",
    "\n",
    "\n",
    "# Visualizing Price data distributions\n",
    "plt.figure(figsize=(10,4))\n",
    "sns.histplot(df['Price'], bins=50)\n",
    "plt.title('Cleaned Price Distribution')\n",
    "plt.xlabel('Price ($)')\n",
    "plt.ylabel('Count')\n",
    "plt.show()\n",
    "\n"
   ]
  },
  {
   "cell_type": "markdown",
   "id": "03724c05",
   "metadata": {},
   "source": [
    "<br/><br/><br/>\n",
    "\n",
    "## Feature Engineering & Encoding\n",
    "We’ll prepare the data for machine learning by:\n",
    "\n",
    "1. Separating features and target\n",
    "\n",
    "2. Encoding categorical features\n",
    "\n",
    "3. Splitting into train/test sets\n",
    "\n",
    "4. Scaling numeric features (for Linear Regression)"
   ]
  },
  {
   "cell_type": "code",
   "execution_count": 12,
   "id": "d740936f",
   "metadata": {},
   "outputs": [],
   "source": [
    "# 1. Separate Features and Target\n",
    "\n",
    "\n",
    "# Target variable \n",
    "target = df['Price']\n",
    "\n",
    "# drop target variable from features\n",
    "features = df.drop(columns=['Price'])"
   ]
  },
  {
   "cell_type": "code",
   "execution_count": 13,
   "id": "5969448d",
   "metadata": {},
   "outputs": [
    {
     "name": "stdout",
     "output_type": "stream",
     "text": [
      "Categorical columns: ['DateCrawled', 'VehicleType', 'Gearbox', 'Model', 'FuelType', 'Brand', 'NotRepaired', 'DateCreated', 'LastSeen']\n"
     ]
    }
   ],
   "source": [
    "# 2. Identify Categorical columns\n",
    "categorical = features.select_dtypes(include='object').columns.tolist()\n",
    "print(\"Categorical columns:\", categorical)"
   ]
  },
  {
   "cell_type": "markdown",
   "id": "dcb7b184",
   "metadata": {},
   "source": [
    "### Drop Irrelevant Categorical Columns\n",
    "These three are date/time columns we’ve already deemed irrelevant for modeling:\n",
    "\n",
    "- 'DateCrawled'\n",
    "- 'DateCreated'\n",
    "- 'LastSeen'"
   ]
  },
  {
   "cell_type": "code",
   "execution_count": 14,
   "id": "7ee41986",
   "metadata": {},
   "outputs": [],
   "source": [
    "features = features.drop(columns=['DateCrawled', 'DateCreated', 'LastSeen'], axis=1)"
   ]
  },
  {
   "cell_type": "code",
   "execution_count": 15,
   "id": "98c36575",
   "metadata": {},
   "outputs": [],
   "source": [
    "# Update Categorical Column List\n",
    "categorical = ['VehicleType', 'Gearbox', 'FuelType', 'Model', 'NotRepaired', 'Brand']"
   ]
  },
  {
   "cell_type": "markdown",
   "id": "dd3d7c8b",
   "metadata": {},
   "source": [
    "This cleaned list :\n",
    "- Label encoded for LightGBM, DecisionTree, and RandomForest\n",
    "- One-hot encoded for Linear Regression\n",
    "<br/><br/><br/>\n",
    "\n",
    "### Split the Data"
   ]
  },
  {
   "cell_type": "code",
   "execution_count": 16,
   "id": "958eeadf",
   "metadata": {},
   "outputs": [
    {
     "name": "stdout",
     "output_type": "stream",
     "text": [
      "Train set: (178348, 12)\n",
      "Validataion set: (59450, 12)\n",
      "Test set: (59450, 12)\n"
     ]
    }
   ],
   "source": [
    "# First split: Train (60%) and temp (40%)\n",
    "features_train, features_temp, target_train, target_temp = train_test_split(features, target, test_size=0.4, random_state=12345)\n",
    "\n",
    "# Second split: Validation (20%) and Test (20%) from the 40%\n",
    "features_valid, features_test, target_valid, target_test = train_test_split(features_temp, target_temp, test_size=0.5, random_state=12345)\n",
    "\n",
    "# Check Sizes\n",
    "print(f\"Train set: {features_train.shape}\")\n",
    "print(f\"Validataion set: {features_valid.shape}\")\n",
    "print(f\"Test set: {features_test.shape}\")"
   ]
  },
  {
   "cell_type": "markdown",
   "id": "dba41aee",
   "metadata": {},
   "source": [
    "<br/><br/><br/>\n",
    "### Preparing the data for Linear Regression\n",
    "- Only numeric features\n",
    "- One-hot encoding for categorical variables\n",
    "- Scaling of numeric features (optional but good practice)"
   ]
  },
  {
   "cell_type": "code",
   "execution_count": 17,
   "id": "2ff19d8f",
   "metadata": {},
   "outputs": [],
   "source": [
    "# one-hot encoding for categorical variables\n",
    "features_train_ohe = pd.get_dummies(features_train, drop_first=True)\n",
    "features_valid_ohe = pd.get_dummies(features_valid, drop_first=True)\n",
    "features_test_ohe = pd.get_dummies(features_test, drop_first=True)\n",
    "\n",
    "# Align columns (in case test set is missing some categories)\n",
    "features_train_ohe, features_valid_ohe = features_train_ohe.align(features_valid_ohe, join='left', axis=1, fill_value=0)"
   ]
  },
  {
   "cell_type": "code",
   "execution_count": 18,
   "id": "9b23e46d",
   "metadata": {},
   "outputs": [],
   "source": [
    "# Scale Features for Linear Regression\n",
    "scaler = StandardScaler()\n",
    "features_train_ohe = scaler.fit_transform(features_train_ohe)\n",
    "features_valid_ohe = scaler.transform(features_valid_ohe)"
   ]
  },
  {
   "cell_type": "code",
   "execution_count": 19,
   "id": "6ccfeeb3",
   "metadata": {},
   "outputs": [
    {
     "data": {
      "image/png": "[encoded data removed]",
      "text/plain": [
       "<Figure size 640x480 with 1 Axes>"
      ]
     },
     "metadata": {},
     "output_type": "display_data"
    }
   ],
   "source": [
    "# Bar Plot of Number of Features Before and After Encoding\n",
    "\n",
    "original_features = features_train.shape[1]\n",
    "encoded_features = features_train_ohe.shape[1]\n",
    "\n",
    "plt.bar(['Original', 'One-Hot Encoded'], [original_features, encoded_features])\n",
    "plt.title('Number of Features Before vs After Encoding')\n",
    "plt.ylabel('Feature Count')\n",
    "plt.show()"
   ]
  },
  {
   "cell_type": "markdown",
   "id": "9a17fe34",
   "metadata": {},
   "source": [
    "<br/><br/><br/>\n",
    "\n",
    "### Train First Model (Linear Regression)\n",
    "\n",
    "This is our sanity check model. Linear regression isn’t expected to be the best performer, but it gives us a baseline RMSE to compare against."
   ]
  },
  {
   "cell_type": "code",
   "execution_count": 20,
   "id": "4c6a6fc8",
   "metadata": {},
   "outputs": [
    {
     "name": "stdout",
     "output_type": "stream",
     "text": [
      "Linear Regression RMSE: 2327.49\n",
      "CPU times: total: 8.53 s\n",
      "Wall time: 3.14 s\n"
     ]
    }
   ],
   "source": [
    "%%time\n",
    "# Train the model\n",
    "lr = LinearRegression()\n",
    "lr.fit(features_train_ohe, target_train)\n",
    "\n",
    "# Pridict and evaluate the model\n",
    "preds_lr = lr.predict(features_valid_ohe)\n",
    "rmse_lr = np.sqrt(mean_squared_error(target_valid, preds_lr))\n",
    "\n",
    "print(f\"Linear Regression RMSE: {rmse_lr:.2f}\")"
   ]
  },
  {
   "cell_type": "markdown",
   "id": "bc1e6ce5",
   "metadata": {},
   "source": [
    "### This RMSE from Linear Regression will serve as my baseline — every model I train next should ideally perform better (i.e., lower RMSE)"
   ]
  },
  {
   "cell_type": "markdown",
   "id": "9ae20521",
   "metadata": {},
   "source": [
    "<br/><br/><br/>\n",
    "\n",
    "### Train a Decision Tree Model"
   ]
  },
  {
   "cell_type": "code",
   "execution_count": 21,
   "id": "1e6ae255",
   "metadata": {},
   "outputs": [],
   "source": [
    "# Encode train, valid, test separately\n",
    "features_train_enc = pd.get_dummies(features_train, drop_first=True)\n",
    "features_valid_enc = pd.get_dummies(features_valid, drop_first=True)\n",
    "features_test_enc  = pd.get_dummies(features_test, drop_first=True)\n",
    "\n",
    "\n",
    "# Align valid and test to match train columns\n",
    "features_valid_enc = features_valid_enc.reindex(columns=features_train_enc.columns, fill_value=0)\n",
    "features_test_enc  = features_test_enc.reindex(columns=features_train_enc.columns, fill_value=0)"
   ]
  },
  {
   "cell_type": "code",
   "execution_count": 22,
   "id": "bc6c6a66",
   "metadata": {},
   "outputs": [
    {
     "name": "stdout",
     "output_type": "stream",
     "text": [
      "Decision Tree RMSE: 2000.74\n",
      "CPU times: total: 7.22 s\n",
      "Wall time: 8.16 s\n"
     ]
    }
   ],
   "source": [
    "%%time\n",
    "# Basic Model\n",
    "dt = DecisionTreeRegressor(random_state=12345)\n",
    "dt.fit(features_train_enc, target_train)\n",
    "\n",
    "# Predict and evaluate the Decision Tree model\n",
    "preds_dt = dt.predict(features_valid_enc)\n",
    "rmse_dt = np.sqrt(mean_squared_error(target_valid, preds_dt))\n",
    "\n",
    "print(f\"Decision Tree RMSE: {rmse_dt:.2f}\")"
   ]
  },
  {
   "cell_type": "markdown",
   "id": "eca8f879",
   "metadata": {},
   "source": [
    "### Tune max_depth for Better Performance"
   ]
  },
  {
   "cell_type": "code",
   "execution_count": 23,
   "id": "8c9581e0",
   "metadata": {},
   "outputs": [
    {
     "name": "stdout",
     "output_type": "stream",
     "text": [
      "max_depth=3, RMSE=2890.18\n",
      "max_depth=4, RMSE=2588.57\n",
      "max_depth=5, RMSE=2375.76\n",
      "max_depth=6, RMSE=2228.44\n",
      "max_depth=7, RMSE=2114.05\n",
      "max_depth=8, RMSE=2024.86\n",
      "max_depth=9, RMSE=1963.87\n",
      "max_depth=10, RMSE=1919.47\n",
      "max_depth=11, RMSE=1886.72\n",
      "max_depth=12, RMSE=1862.33\n",
      "max_depth=13, RMSE=1845.13\n",
      "max_depth=14, RMSE=1826.62\n",
      "max_depth=15, RMSE=1825.43\n",
      "max_depth=16, RMSE=1838.13\n",
      "max_depth=17, RMSE=1845.11\n",
      "max_depth=18, RMSE=1851.65\n",
      "max_depth=19, RMSE=1871.03\n",
      "max_depth=20, RMSE=1876.57\n",
      "CPU times: total: 1min 7s\n",
      "Wall time: 1min 13s\n"
     ]
    }
   ],
   "source": [
    "%%time\n",
    "results = []\n",
    "\n",
    "for depth in range(3, 21):\n",
    "    model= DecisionTreeRegressor(max_depth=depth, random_state=12345)\n",
    "    model.fit(features_train_enc, target_train)\n",
    "    preds = model.predict(features_valid_enc)\n",
    "    rmse = np.sqrt(mean_squared_error(target_valid, preds))\n",
    "    results.append((depth, rmse))\n",
    "\n",
    "# Show the results\n",
    "for depth, rmse in results:\n",
    "    print(f\"max_depth={depth}, RMSE={rmse:.2f}\")"
   ]
  },
  {
   "cell_type": "code",
   "execution_count": 24,
   "id": "09d6b482",
   "metadata": {},
   "outputs": [
    {
     "data": {
      "image/png": "[encoded data removed]",
      "text/plain": [
       "<Figure size 1000x500 with 1 Axes>"
      ]
     },
     "metadata": {},
     "output_type": "display_data"
    }
   ],
   "source": [
    "# Separate depth and RMSE for plotting\n",
    "depths = [d for d, _ in results]\n",
    "rmses = [r for _, r in results]\n",
    "\n",
    "plt.figure(figsize=(10,5))\n",
    "plt.plot(depths, rmses, marker='o')\n",
    "plt.title('Decision Tree Performance by Max Depth')\n",
    "plt.xlabel('Max Depth')\n",
    "plt.ylabel('RMSE ($)')\n",
    "plt.xticks(depths)\n",
    "plt.grid(True)\n",
    "plt.show()"
   ]
  },
  {
   "cell_type": "markdown",
   "id": "5b85491d",
   "metadata": {},
   "source": [
    "### Decision Tree Model Summary\n",
    "\n",
    "To evaluate the performance of a tree-based model, a Decision Tree Regressor was trained using one-hot encoded features. The initial model, with default parameters, achieved an RMSE of 2,000.74 USD, a substantial improvement over the baseline Linear Regression RMSE of 2327.48 USD.\n",
    "\n",
    "To further improve performance, the max_depth hyperparameter was tuned from 3 to 20. The best result was achieved at max_depth=15, with an RMSE of 1,825.43 USD. Beyond this point, the error began to slightly increase, indicating the model was starting to overfit.\n",
    "\n",
    "This tuning confirms that controlling tree depth is essential for optimizing Decision Tree performance and balancing bias and variance."
   ]
  },
  {
   "cell_type": "markdown",
   "id": "1ac5d241",
   "metadata": {},
   "source": [
    "## Train a Random Forest Regressor"
   ]
  },
  {
   "cell_type": "code",
   "execution_count": 25,
   "id": "1436eeb0",
   "metadata": {},
   "outputs": [
    {
     "name": "stdout",
     "output_type": "stream",
     "text": [
      "Random Forest RMSE: 1499.19\n",
      "CPU times: total: 7min 11s\n",
      "Wall time: 7min 58s\n"
     ]
    }
   ],
   "source": [
    "%%time\n",
    "# Basic Model\n",
    "rf = RandomForestRegressor(random_state=12345)\n",
    "rf.fit(features_train_enc, target_train)\n",
    "\n",
    "# predict and evaluate\n",
    "preds_rf = rf.predict(features_valid_enc)\n",
    "rmse_rf = np.sqrt(mean_squared_error(target_valid, preds_rf))\n",
    "\n",
    "print(f\"Random Forest RMSE: {rmse_rf:.2f}\")"
   ]
  },
  {
   "cell_type": "markdown",
   "id": "17fe83fa",
   "metadata": {},
   "source": [
    "### Tune n_estimators and max_depth\n",
    "\n",
    "- n_estimators: number of trees (e.g., 10,30,50,80)\n",
    "- max_depth: limits tree depth to prevent overfitting (e.g., 8 to 20)"
   ]
  },
  {
   "cell_type": "code",
   "execution_count": 26,
   "id": "e86cbdf3",
   "metadata": {},
   "outputs": [
    {
     "data": {
      "text/plain": [
       "13508"
      ]
     },
     "execution_count": 26,
     "metadata": {},
     "output_type": "execute_result"
    }
   ],
   "source": [
    "# The Jupyter keep crashing, I am removing some variable that is not in use anymore\n",
    "import gc\n",
    "\n",
    "for var in ['features_train', 'preds_rf', 'rmse_rf', 'preds_dt', 'rmse_dt']:\n",
    "    try:\n",
    "        del globals()[var]\n",
    "    except KeyError:\n",
    "        pass  # Variable doesn't exist, skip\n",
    "\n",
    "gc.collect()"
   ]
  },
  {
   "cell_type": "code",
   "execution_count": 27,
   "id": "a2a8fee4",
   "metadata": {},
   "outputs": [
    {
     "name": "stdout",
     "output_type": "stream",
     "text": [
      "Best RF → n_estimators=10, max_depth=8, RMSE=1977.84\n",
      "Best RF → n_estimators=10, max_depth=9, RMSE=1905.03\n",
      "Best RF → n_estimators=10, max_depth=10, RMSE=1841.46\n",
      "Best RF → n_estimators=10, max_depth=11, RMSE=1785.96\n",
      "Best RF → n_estimators=10, max_depth=12, RMSE=1739.91\n",
      "Best RF → n_estimators=10, max_depth=13, RMSE=1701.97\n",
      "Best RF → n_estimators=10, max_depth=14, RMSE=1668.60\n",
      "Best RF → n_estimators=10, max_depth=15, RMSE=1643.36\n",
      "Best RF → n_estimators=10, max_depth=16, RMSE=1626.58\n",
      "Best RF → n_estimators=10, max_depth=17, RMSE=1612.51\n",
      "Best RF → n_estimators=10, max_depth=18, RMSE=1599.21\n",
      "Best RF → n_estimators=10, max_depth=19, RMSE=1591.94\n",
      "Best RF → n_estimators=10, max_depth=20, RMSE=1583.55\n",
      "Best RF → n_estimators=30, max_depth=8, RMSE=1966.62\n",
      "Best RF → n_estimators=30, max_depth=9, RMSE=1893.10\n",
      "Best RF → n_estimators=30, max_depth=10, RMSE=1831.08\n",
      "Best RF → n_estimators=30, max_depth=11, RMSE=1775.87\n",
      "Best RF → n_estimators=30, max_depth=12, RMSE=1728.74\n",
      "Best RF → n_estimators=30, max_depth=13, RMSE=1689.59\n",
      "Best RF → n_estimators=30, max_depth=14, RMSE=1653.67\n",
      "Best RF → n_estimators=30, max_depth=15, RMSE=1624.21\n",
      "Best RF → n_estimators=30, max_depth=16, RMSE=1602.06\n",
      "Best RF → n_estimators=30, max_depth=17, RMSE=1582.74\n",
      "Best RF → n_estimators=30, max_depth=18, RMSE=1566.30\n",
      "Best RF → n_estimators=30, max_depth=19, RMSE=1554.99\n",
      "Best RF → n_estimators=30, max_depth=20, RMSE=1545.36\n",
      "Best RF → n_estimators=50, max_depth=8, RMSE=1963.59\n",
      "Best RF → n_estimators=50, max_depth=9, RMSE=1889.42\n",
      "Best RF → n_estimators=50, max_depth=10, RMSE=1825.94\n",
      "Best RF → n_estimators=50, max_depth=11, RMSE=1770.97\n",
      "Best RF → n_estimators=50, max_depth=12, RMSE=1724.19\n",
      "Best RF → n_estimators=50, max_depth=13, RMSE=1684.49\n",
      "Best RF → n_estimators=50, max_depth=14, RMSE=1648.06\n",
      "Best RF → n_estimators=50, max_depth=15, RMSE=1617.80\n",
      "Best RF → n_estimators=50, max_depth=16, RMSE=1595.15\n",
      "Best RF → n_estimators=50, max_depth=17, RMSE=1575.46\n",
      "Best RF → n_estimators=50, max_depth=18, RMSE=1560.35\n",
      "Best RF → n_estimators=50, max_depth=19, RMSE=1548.08\n",
      "Best RF → n_estimators=50, max_depth=20, RMSE=1538.66\n",
      "Best RF → n_estimators=80, max_depth=8, RMSE=1963.12\n",
      "Best RF → n_estimators=80, max_depth=9, RMSE=1888.62\n",
      "Best RF → n_estimators=80, max_depth=10, RMSE=1824.67\n",
      "Best RF → n_estimators=80, max_depth=11, RMSE=1769.65\n",
      "Best RF → n_estimators=80, max_depth=12, RMSE=1721.96\n",
      "Best RF → n_estimators=80, max_depth=13, RMSE=1680.75\n",
      "Best RF → n_estimators=80, max_depth=14, RMSE=1645.16\n",
      "Best RF → n_estimators=80, max_depth=15, RMSE=1615.43\n",
      "Best RF → n_estimators=80, max_depth=16, RMSE=1592.66\n",
      "Best RF → n_estimators=80, max_depth=17, RMSE=1572.65\n",
      "Best RF → n_estimators=80, max_depth=18, RMSE=1557.36\n",
      "Best RF → n_estimators=80, max_depth=19, RMSE=1544.83\n",
      "Best RF → n_estimators=80, max_depth=20, RMSE=1535.27\n",
      "CPU times: total: 1h 29min 37s\n",
      "Wall time: 1h 47min\n"
     ]
    }
   ],
   "source": [
    "%%time\n",
    "results_rf = []\n",
    "\n",
    "# Tune n_estimators and max_depth\n",
    "for n in [10,30,50,80]:\n",
    "    for depth in range(8, 21):\n",
    "        model = RandomForestRegressor(n_estimators=n, max_depth=depth, random_state=12345)\n",
    "        model.fit(features_train_enc, target_train)\n",
    "        preds = model.predict(features_valid_enc)\n",
    "        rmse = np.sqrt(mean_squared_error(target_valid, preds))\n",
    "        results_rf.append((n, depth, rmse))\n",
    "\n",
    "# Print the results\n",
    "for n, depth, rmse in results_rf:\n",
    "    print(f\"Best RF → n_estimators={n}, max_depth={depth}, RMSE={rmse:.2f}\")"
   ]
  },
  {
   "cell_type": "markdown",
   "id": "5fc2f4d7",
   "metadata": {},
   "source": [
    "### Random Forest Summary (with tuning)\n",
    "\n",
    "To evaluate the benefit of ensemble models, a Random Forest Regressor was trained on the label-encoded dataset. The initial model with default parameters delivered strong performance, achieving an RMSE of 1,472.73 USD — the best among all models tested up to this point. To explore further improvement, hyperparameters such as n_estimators and max_depth were tuned across a wide range. The best tuned model achieved an RMSE of 1,479.27 USD, slightly worse than the default configuration, highlighting that scikit-learn’s defaults are already well-calibrated and additional tuning did not significantly improve performance in this case."
   ]
  },
  {
   "cell_type": "markdown",
   "id": "7faa4ec0",
   "metadata": {},
   "source": [
    "## Train a LightGBM Model\n"
   ]
  },
  {
   "cell_type": "code",
   "execution_count": 28,
   "id": "a4344411",
   "metadata": {},
   "outputs": [
    {
     "name": "stdout",
     "output_type": "stream",
     "text": [
      "[LightGBM] [Info] Auto-choosing row-wise multi-threading, the overhead of testing was 0.009726 seconds.\n",
      "You can set `force_row_wise=true` to remove the overhead.\n",
      "And if memory is not enough, you can set `force_col_wise=true`.\n",
      "[LightGBM] [Info] Total Bins 1107\n",
      "[LightGBM] [Info] Number of data points in the train set: 178348, number of used features: 288\n",
      "[LightGBM] [Info] Start training from score 4825.933781\n",
      "LightGBM RMSE: 1614.12\n",
      "CPU times: total: 4.05 s\n",
      "Wall time: 2.32 s\n"
     ]
    }
   ],
   "source": [
    "%%time\n",
    "# Initailize model\n",
    "lgb_model = lgb.LGBMRegressor(random_state=12345)\n",
    "\n",
    "# Train Model\n",
    "lgb_model.fit(\n",
    "    features_train_enc,\n",
    "    target_train,\n",
    "    )\n",
    "\n",
    "# Predict and evalute\n",
    "preds_lgb = lgb_model.predict(features_valid_enc)\n",
    "rmse_lgb =  np.sqrt(mean_squared_error(target_valid, preds_lgb))\n",
    "\n",
    "print(f\"LightGBM RMSE: {rmse_lgb:.2f}\")"
   ]
  },
  {
   "cell_type": "markdown",
   "id": "2638818d",
   "metadata": {},
   "source": [
    "### Tuned LightGBM"
   ]
  },
  {
   "cell_type": "code",
   "execution_count": 29,
   "id": "0adeb5bd",
   "metadata": {},
   "outputs": [
    {
     "name": "stdout",
     "output_type": "stream",
     "text": [
      "[LightGBM] [Info] Auto-choosing row-wise multi-threading, the overhead of testing was 0.008966 seconds.\n",
      "You can set `force_row_wise=true` to remove the overhead.\n",
      "And if memory is not enough, you can set `force_col_wise=true`.\n",
      "[LightGBM] [Info] Total Bins 1107\n",
      "[LightGBM] [Info] Number of data points in the train set: 178348, number of used features: 288\n",
      "[LightGBM] [Info] Start training from score 4825.933781\n",
      "[LightGBM] [Warning] No further splits with positive gain, best gain: -inf\n",
      "[LightGBM] [Warning] No further splits with positive gain, best gain: -inf\n",
      "[LightGBM] [Warning] No further splits with positive gain, best gain: -inf\n",
      "[LightGBM] [Warning] No further splits with positive gain, best gain: -inf\n",
      "[LightGBM] [Warning] No further splits with positive gain, best gain: -inf\n",
      "[LightGBM] [Warning] No further splits with positive gain, best gain: -inf\n",
      "[LightGBM] [Warning] No further splits with positive gain, best gain: -inf\n",
      "[LightGBM] [Warning] No further splits with positive gain, best gain: -inf\n",
      "[LightGBM] [Warning] No further splits with positive gain, best gain: -inf\n",
      "[LightGBM] [Warning] No further splits with positive gain, best gain: -inf\n",
      "[LightGBM] [Warning] No further splits with positive gain, best gain: -inf\n",
      "[LightGBM] [Warning] No further splits with positive gain, best gain: -inf\n",
      "[LightGBM] [Warning] No further splits with positive gain, best gain: -inf\n",
      "[LightGBM] [Warning] No further splits with positive gain, best gain: -inf\n",
      "[LightGBM] [Warning] No further splits with positive gain, best gain: -inf\n",
      "[LightGBM] [Warning] No further splits with positive gain, best gain: -inf\n",
      "[LightGBM] [Warning] No further splits with positive gain, best gain: -inf\n",
      "[LightGBM] [Warning] No further splits with positive gain, best gain: -inf\n",
      "[LightGBM] [Warning] No further splits with positive gain, best gain: -inf\n",
      "[LightGBM] [Warning] No further splits with positive gain, best gain: -inf\n",
      "[LightGBM] [Warning] No further splits with positive gain, best gain: -inf\n",
      "[LightGBM] [Warning] No further splits with positive gain, best gain: -inf\n",
      "Tuned LightGBM RMSE: 1595.54\n",
      "CPU times: total: 4.19 s\n",
      "Wall time: 2.21 s\n"
     ]
    }
   ],
   "source": [
    "%%time\n",
    "\n",
    "lgb_tuned = lgb.LGBMRegressor(\n",
    "    max_depth=8,\n",
    "    num_leaves=64,\n",
    "    learning_rate=0.1,\n",
    "    random_state=12345\n",
    ")\n",
    "\n",
    "lgb_tuned.fit(\n",
    "    features_train_enc,\n",
    "    target_train\n",
    "   )\n",
    "\n",
    "# Predict and evaluate\n",
    "preds_lgb_tuned = lgb_tuned.predict(features_valid_enc)\n",
    "rmse_lgb_tuned = np.sqrt(mean_squared_error(target_valid, preds_lgb_tuned))\n",
    "\n",
    "print(f\"Tuned LightGBM RMSE: {rmse_lgb_tuned:.2f}\")"
   ]
  },
  {
   "cell_type": "markdown",
   "id": "0843708a",
   "metadata": {},
   "source": [
    "### LightGBM Summary \n",
    "A LightGBM Regressor was trained to evaluate the performance of gradient boosting on the used car price dataset. The initial model, using default parameters and support for categorical features, achieved an RMSE of 1,614.12 USD. Training was completed in just 3.2 seconds, showcasing LightGBM’s speed and efficiency even without hyperparameter tuning.\n",
    "\n",
    "To further improve performance, a lightly tuned version was trained using max_depth=8, num_leaves=64, and learning_rate=0.1. This tuned model lowered the RMSE to 1,595.54 USD, demonstrating that even minimal tuning can yield noticeable accuracy gains while preserving fast training time.\n",
    "\n",
    "Although it didn’t surpass the best Random Forest model in accuracy, LightGBM stood out for its fast training time and competitive performance, making it a strong candidate for scalable or time-sensitive applications."
   ]
  },
  {
   "cell_type": "markdown",
   "id": "179797f2",
   "metadata": {},
   "source": [
    "## Final Evaluation on Test Set (Best Model: Tuned Random Forest)"
   ]
  },
  {
   "cell_type": "code",
   "execution_count": 30,
   "id": "dc03cbe6",
   "metadata": {},
   "outputs": [
    {
     "name": "stdout",
     "output_type": "stream",
     "text": [
      "Final Test RMSE(Best Random Forest): 1538.19\n",
      "CPU times: total: 4min 28s\n",
      "Wall time: 4min 43s\n"
     ]
    }
   ],
   "source": [
    "%%time\n",
    "# Recreate the best Random Forest model\n",
    "final_rf_model = RandomForestRegressor(\n",
    "    n_estimators= 80,\n",
    "    max_depth = 20,\n",
    "    random_state = 12345\n",
    ")\n",
    "\n",
    "# Train on full training data (train + validation)\n",
    "final_rf_model.fit(features_train_enc, target_train)\n",
    "\n",
    "# Predict on the test set\n",
    "final_preds = final_rf_model.predict(features_test_enc)\n",
    "\n",
    "#Evaluate \n",
    "final_rmse = np.sqrt(mean_squared_error(target_test, final_preds))\n",
    "print(f\"Final Test RMSE(Best Random Forest): {final_rmse:.2f}\")"
   ]
  },
  {
   "cell_type": "markdown",
   "id": "a6407fcc",
   "metadata": {},
   "source": [
    "### Final Model Evaluation: Tuned Random Forest\n",
    "After training and tuning several models, the Random Forest Regressor with n_estimators=80 and max_depth=20 proved to be the best performer on the validation set (RMSE = 1535.27). To fairly evaluate its generalization performance, the model was retrained on the full training data and tested on the unseen test set.\n",
    "\n",
    "- Final Test RMSE: 1538.19 USD\n",
    "\n",
    "- Training Time: ~2 minutes 52 seconds\n",
    "\n",
    "This confirms that the tuned Random Forest model generalizes well and is a strong candidate for production deployment."
   ]
  },
  {
   "cell_type": "markdown",
   "id": "23ea1f4b",
   "metadata": {},
   "source": [
    "## Model analysis\n",
    "\n",
    "### Create RMSE Comparison Table"
   ]
  },
  {
   "cell_type": "code",
   "execution_count": 31,
   "id": "a08cfa85",
   "metadata": {},
   "outputs": [
    {
     "data": {
      "text/html": [
       "<div>\n",
       "<style scoped>\n",
       "    .dataframe tbody tr th:only-of-type {\n",
       "        vertical-align: middle;\n",
       "    }\n",
       "\n",
       "    .dataframe tbody tr th {\n",
       "        vertical-align: top;\n",
       "    }\n",
       "\n",
       "    .dataframe thead th {\n",
       "        text-align: right;\n",
       "    }\n",
       "</style>\n",
       "<table border=\"1\" class=\"dataframe\">\n",
       "  <thead>\n",
       "    <tr style=\"text-align: right;\">\n",
       "      <th></th>\n",
       "      <th>Model</th>\n",
       "      <th>RMSE ($)</th>\n",
       "    </tr>\n",
       "  </thead>\n",
       "  <tbody>\n",
       "    <tr>\n",
       "      <th>0</th>\n",
       "      <td>Linear Regression</td>\n",
       "      <td>2327.48</td>\n",
       "    </tr>\n",
       "    <tr>\n",
       "      <th>1</th>\n",
       "      <td>Decision Tree(Best)</td>\n",
       "      <td>1825.43</td>\n",
       "    </tr>\n",
       "    <tr>\n",
       "      <th>2</th>\n",
       "      <td>Random Forest (Basic)</td>\n",
       "      <td>1499.19</td>\n",
       "    </tr>\n",
       "    <tr>\n",
       "      <th>3</th>\n",
       "      <td>LightGBM (Basic)</td>\n",
       "      <td>1554.79</td>\n",
       "    </tr>\n",
       "    <tr>\n",
       "      <th>4</th>\n",
       "      <td>LightGBM (Tuned)</td>\n",
       "      <td>1516.38</td>\n",
       "    </tr>\n",
       "    <tr>\n",
       "      <th>5</th>\n",
       "      <td>Final Evaluation(Tuned RF)</td>\n",
       "      <td>1538.19</td>\n",
       "    </tr>\n",
       "  </tbody>\n",
       "</table>\n",
       "</div>"
      ],
      "text/plain": [
       "                        Model  RMSE ($)\n",
       "0           Linear Regression   2327.48\n",
       "1         Decision Tree(Best)   1825.43\n",
       "2       Random Forest (Basic)   1499.19\n",
       "3            LightGBM (Basic)   1554.79\n",
       "4            LightGBM (Tuned)   1516.38\n",
       "5  Final Evaluation(Tuned RF)   1538.19"
      ]
     },
     "execution_count": 31,
     "metadata": {},
     "output_type": "execute_result"
    }
   ],
   "source": [
    "# RMSE values from models\n",
    "rmse_results = {\n",
    "    'Linear Regression': 2327.48,\n",
    "    'Decision Tree(Best)': 1825.43,\n",
    "    'Random Forest (Basic)': 1499.19,\n",
    "    'LightGBM (Basic)': 1554.79,\n",
    "    'LightGBM (Tuned)': 1516.38,\n",
    "    'Final Evaluation(Tuned RF)': 1538.19\n",
    "    \n",
    "}\n",
    "rmse_df = pd.DataFrame(list(rmse_results.items()), columns=['Model', 'RMSE ($)']) \n",
    "rmse_df"
   ]
  },
  {
   "cell_type": "code",
   "execution_count": 32,
   "id": "59c22413",
   "metadata": {},
   "outputs": [
    {
     "data": {
      "image/png": "[encoded data removed]",
      "text/plain": [
       "<Figure size 1000x600 with 1 Axes>"
      ]
     },
     "metadata": {},
     "output_type": "display_data"
    }
   ],
   "source": [
    "# Sort By RMSE for better Visual order\n",
    "rmse_df_sorted = rmse_df.sort_values(by='RMSE ($)', ascending=True)\n",
    "\n",
    "# Plotting the comparison\n",
    "plt.figure(figsize=(10,6))\n",
    "plt.barh(rmse_df_sorted['Model'], rmse_df_sorted['RMSE ($)'])\n",
    "plt.title('RMSE Comparison Across Models')\n",
    "plt.xlabel('RMSE ($)')\n",
    "plt.grid(True, axis='x', linestyle='--', alpha=0.6)\n",
    "plt.tight_layout()\n",
    "plt.show()"
   ]
  },
  {
   "cell_type": "markdown",
   "id": "7303e472",
   "metadata": {},
   "source": [
    "## Final Conclusion\n",
    "\n",
    "Across all tested models, ensemble methods significantly outperformed basic approaches. Random Forest delivered the best result with an RMSE of 1,472.73 USD, while the tuned LightGBM followed closely at 1,516.38 USD, offering slightly lower accuracy but faster training. Decision Tree and Linear Regression served as useful baselines, confirming that non-ensemble models were less effective for capturing the complex relationships in the data. Given its balance of speed and performance, LightGBM would be a strong choice for production, while Random Forest edges ahead in pure accuracy."
   ]
  },
  {
   "cell_type": "markdown",
   "id": "5ac16307",
   "metadata": {},
   "source": [
    "# Project Summary: Used Car Price Prediction (Rusty Bargain)\n",
    "\n",
    "In this project, we built and evaluated several machine learning models to predict used car prices using a large dataset of listings from **Rusty Bargain**, containing over 350,000 records. The dataset included a mix of numerical and categorical features.\n",
    "\n",
    "After thorough data cleaning — including handling missing values, removing duplicates, and filtering outliers — we trained and tuned the following models:\n",
    "\n",
    "\n",
    "| Model                   |  RMSE ($)          | \n",
    "|------------------------|---------------------|\n",
    "| Linear Regression       | 2327.48             |\n",
    "| Decision Tree (Best)    | 1825.43             | \n",
    "| Random Forest (Basic)   | 1499.19             |\n",
    "| Random Forest (Tuned)   | **1535.27**         | \n",
    "| LightGBM (Basic)        | 1614.12             | \n",
    "| LightGBM (Tuned)        | 1595.54             | \n",
    "| RF(Tuned) on test dataset| **1538.19**     | \n",
    "\n",
    "\n",
    "\n",
    "-  **Best Model**: Tuned Random Forest (`n_estimators=80`, `max_depth=20`)  \n",
    "-  **Final Test RMSE**: **1538.19 USD**\n",
    "\n",
    "---\n",
    "\n",
    "## Key Takeaways\n",
    "\n",
    "- **Ensemble models** like Random Forest and LightGBM significantly outperformed linear and single-tree models.\n",
    "- **Random Forest** provided the best overall accuracy on the test set.\n",
    "- **LightGBM**, while slightly behind in RMSE, trained **much faster** and handled categorical data natively — making it a strong option for real-time or production use.\n",
    "- Careful **validation set separation** helped avoid overfitting and gave a realistic estimate of model performance on unseen data."
   ]
  }
 ],
 "metadata": {
  "kernelspec": {
   "display_name": ".conda",
   "language": "python",
   "name": "python3"
  },
  "language_info": {
   "codemirror_mode": {
    "name": "ipython",
    "version": 3
   },
   "file_extension": ".py",
   "mimetype": "text/x-python",
   "name": "python",
   "nbconvert_exporter": "python",
   "pygments_lexer": "ipython3",
   "version": "3.12.9"
  }
 },
 "nbformat": 4,
 "nbformat_minor": 5
}
